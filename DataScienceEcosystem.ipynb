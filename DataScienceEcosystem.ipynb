{
 "cells": [
  {
   "cell_type": "markdown",
   "id": "21ad7a7a",
   "metadata": {},
   "source": [
    "# Data Science Tools and Ecosystem"
   ]
  },
  {
   "cell_type": "markdown",
   "id": "9e802cb3",
   "metadata": {},
   "source": [
    "In this notebook, Data Science Tools and Ecosystems are sumarized."
   ]
  },
  {
   "cell_type": "markdown",
   "id": "2b1ff8c3",
   "metadata": {},
   "source": [
    "Some of the popular languages that Data Scientists use are:1-R\n",
    "                                                           2-Python\n",
    "                                                           3-SQL"
   ]
  },
  {
   "cell_type": "markdown",
   "id": "a1249c35",
   "metadata": {},
   "source": [
    "Some of the commonly used libraries used by Data Scientists include:1-Pandas\n",
    "                                                                    2-Matplotlib\n",
    "                                                                    3-TensorFlow"
   ]
  },
  {
   "cell_type": "markdown",
   "id": "2ae08759",
   "metadata": {},
   "source": [
    "|Data Science Tools|\n",
    "|------------------|\n",
    "|Jupyter|\n",
    "|RStudio|\n",
    "|Jupyter Lab|"
   ]
  },
  {
   "cell_type": "markdown",
   "id": "15b23b53",
   "metadata": {},
   "source": [
    "### Below are a few examples of evaluating arithmetic expressions in Python."
   ]
  },
  {
   "cell_type": "code",
   "execution_count": 1,
   "id": "caa6b8fd",
   "metadata": {},
   "outputs": [
    {
     "data": {
      "text/plain": [
       "17"
      ]
     },
     "execution_count": 1,
     "metadata": {},
     "output_type": "execute_result"
    }
   ],
   "source": [
    "# This is a simple arithetic expression to multiply then add integers.\n",
    "(3*4)+5"
   ]
  },
  {
   "cell_type": "code",
   "execution_count": 2,
   "id": "0d5e093e",
   "metadata": {},
   "outputs": [
    {
     "data": {
      "text/plain": [
       "3.3333333333333335"
      ]
     },
     "execution_count": 2,
     "metadata": {},
     "output_type": "execute_result"
    }
   ],
   "source": [
    "# This will convert 200 minutes to hours by dividing by 60.\n",
    "200/60"
   ]
  },
  {
   "cell_type": "markdown",
   "id": "2a14d215",
   "metadata": {},
   "source": [
    "***Objectives:***\n",
    "-Popular Languages in Data Science\n",
    "-Common Libraries\n",
    "-Testing Arithmetic\n",
    "-Creating Tables"
   ]
  },
  {
   "cell_type": "markdown",
   "id": "49b1a3d2",
   "metadata": {},
   "source": [
    "## Author\n",
    "Charles Wozniak"
   ]
  }
 ],
 "metadata": {
  "kernelspec": {
   "display_name": "Python 3 (ipykernel)",
   "language": "python",
   "name": "python3"
  },
  "language_info": {
   "codemirror_mode": {
    "name": "ipython",
    "version": 3
   },
   "file_extension": ".py",
   "mimetype": "text/x-python",
   "name": "python",
   "nbconvert_exporter": "python",
   "pygments_lexer": "ipython3",
   "version": "3.9.7"
  }
 },
 "nbformat": 4,
 "nbformat_minor": 5
}
